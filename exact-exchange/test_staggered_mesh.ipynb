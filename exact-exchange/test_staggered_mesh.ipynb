{
 "cells": [
  {
   "cell_type": "markdown",
   "metadata": {},
   "source": [
    "# Staggered Mesh Method for PBC Exact Exchange.\n",
    "This is a test file to demonstrate how to use PBC Exact exchange both for hybrid DFT, with diamond and H2 as test materials\n",
    "\n",
    "## 1. Import packages and build cells"
   ]
  },
  {
   "cell_type": "code",
   "execution_count": 13,
   "metadata": {},
   "outputs": [],
   "source": [
    "import numpy as np\n",
    "import pyscf.pbc.scf as pbcscf\n",
    "import pyscf.pbc.df as df\n",
    "import khf_stagger\n",
    "from pyscf.pbc import gto as pbcgto\n",
    "\n",
    "from pyscf.pbc import dft as pbcdft\n",
    "from pyscf.pbc.dft import numint as pbcnumint\n",
    "from pyscf import dft\n",
    "from pyscf.dft import numint\n",
    "\n",
    "'''\n",
    "Hydrogen dimer\n",
    "'''\n",
    "def build_h2_cell(nks = (1,1,1),kecut=100,vac_dim=6.0,wrap_around=True):\n",
    "    cell = pbcgto.Cell()\n",
    "    cell.unit = 'Bohr'\n",
    "    cell.atom='''\n",
    "        H 0.00 0.00 0.00\n",
    "        H 0.00 0.00 1.80\n",
    "        '''\n",
    "    cell.a = np.eye(3)*vac_dim\n",
    "\n",
    "    cell.verbose = 7\n",
    "    cell.spin = 0\n",
    "    cell.charge = 0\n",
    "\n",
    "    \n",
    "    \n",
    "    cell.basis = 'gth-szv'\n",
    "    cell.pseudo = 'gth-pbe'\n",
    "    \n",
    "    cell.ke_cutoff = kecut\n",
    "    cell.max_memory = 1000\n",
    "    cell.precision = 1e-8\n",
    "\n",
    "    cell.build()\n",
    "    kpts = cell.make_kpts(nks, wrap_around=wrap_around)    \n",
    "    return cell, kpts\n",
    "\n",
    "\n",
    "'''\n",
    "Diamond \n",
    "'''\n",
    "def build_diamond_cell(nks = (1,1,1),kecut=100,wrap_around=True,with_gamma_point=True):\n",
    "    cell = pbcgto.Cell()\n",
    "    cell.unit = 'Bohr'\n",
    "    cell.atom='''\n",
    "         C 0.0 0.0 0.0\n",
    "         C 1.68516327271508 1.68516327271508 1.68516327271508\n",
    "        '''\n",
    "    cell.a = '''\n",
    "         0.0 3.370326545430162 3.370326545430162\n",
    "         3.370326545430162 0.0 3.370326545430162\n",
    "         3.370326545430162 3.370326545430162 0.0\n",
    "        '''\n",
    "    cell.verbose = 7\n",
    "    cell.spin = 0\n",
    "    cell.charge = 0\n",
    "    cell.basis = {'C':'gth-szv'}\n",
    "    cell.precision = 1e-8\n",
    "    cell.pseudo = 'gth-pbe'\n",
    "    cell.ke_cutoff = kecut\n",
    "    cell.max_memory = 1000\n",
    "\n",
    "    cell.build()\n",
    "    cell.omega = 0\n",
    "    kpts = cell.make_kpts(nks, wrap_around=wrap_around,with_gamma_point=with_gamma_point)    \n",
    "    return cell, kpts\n",
    "\n"
   ]
  },
  {
   "cell_type": "markdown",
   "metadata": {},
   "source": [
    "## 2a. Run HF"
   ]
  },
  {
   "cell_type": "code",
   "execution_count": null,
   "metadata": {},
   "outputs": [],
   "source": [
    "# HF calcuation to base Non-SCF and Split-SCF staggered mesh calculations on.\n",
    "nks = [2, 2, 2]\n",
    "cell, kpts = build_h2_cell(nks=nks,kecut=100,vac_dim=6.0,wrap_around=True)\n",
    "\n",
    "kmf = pbcscf.KRHF(cell, kpts, exxdiv='ewald')\n",
    "kmf.with_df = df.GDF(cell, kpts).build()\n",
    "ehf = kmf.kernel()"
   ]
  },
  {
   "cell_type": "markdown",
   "metadata": {},
   "source": [
    "## 2b. Run Staggered Mesh for HF"
   ]
  },
  {
   "cell_type": "code",
   "execution_count": null,
   "metadata": {},
   "outputs": [],
   "source": [
    "# Staggered \n",
    "\n",
    "'''\n",
    "KHF Stagger, Non-SCF version\n",
    "Compute densities at shifted mesh non-SCF using F_unshifted. Additional cost\n",
    "is ~ 1 extra K-build.\n",
    "'''\n",
    "kmf_stagger = khf_stagger.KHF_stagger(kmf,\"non-scf\")\n",
    "kmf_stagger.kernel()\n",
    "etot = kmf_stagger.e_tot\n",
    "ek_stagger = kmf_stagger.ek\n",
    "\n",
    "print('Non-SCF Stagger')\n",
    "print('Total energy: ', etot)\n",
    "print('Exchange energy: ', ek_stagger)"
   ]
  },
  {
   "cell_type": "markdown",
   "metadata": {},
   "source": [
    "## 3a. Run PBE0"
   ]
  },
  {
   "cell_type": "code",
   "execution_count": null,
   "metadata": {},
   "outputs": [],
   "source": [
    "# Setup\n",
    "nks = [2, 2, 2]\n",
    "cell, kpts= build_diamond_cell(nks=nks,kecut=56,with_gamma_point=False)\n",
    "cell.dimension = 3\n",
    "cell.build()\n",
    "Nk = np.prod(nks)\n",
    "\n",
    "# DFT kernel\n",
    "dft.numint.NumInt.libxc = dft.xcfun\n",
    "xc = \"PBE0\"\n",
    "krks = pbcdft.KRKS(cell, kpts)\n",
    "krks.xc = xc\n",
    "krks.exxdiv = \"ewald\"\n",
    "krks.with_df = df.GDF(cell, kpts).build()\n",
    "edft = krks.kernel()"
   ]
  },
  {
   "cell_type": "markdown",
   "metadata": {},
   "source": [
    "## 3b. Run Staggered Mesh for EXX term of PBE0"
   ]
  },
  {
   "cell_type": "code",
   "execution_count": null,
   "metadata": {},
   "outputs": [],
   "source": [
    "krks_stagger = khf_stagger.KHF_stagger(krks, \"non-scf\")\n",
    "krks_stagger.kernel()\n",
    "etot = krks_stagger.e_tot\n",
    "ek_stagger = krks_stagger.ek\n",
    "\n",
    "print(\"Non-SCF Stagger with DFT\")\n",
    "print(\"Total energy: \", etot)\n",
    "print(\"Exchange energy: \", ek_stagger)"
   ]
  }
 ],
 "metadata": {
  "kernelspec": {
   "display_name": "finite-size-effects",
   "language": "python",
   "name": "python3"
  },
  "language_info": {
   "codemirror_mode": {
    "name": "ipython",
    "version": 3
   },
   "file_extension": ".py",
   "mimetype": "text/x-python",
   "name": "python",
   "nbconvert_exporter": "python",
   "pygments_lexer": "ipython3",
   "version": "3.9.16"
  }
 },
 "nbformat": 4,
 "nbformat_minor": 2
}
